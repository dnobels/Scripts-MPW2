{
 "cells": [
  {
   "cell_type": "code",
   "execution_count": 1,
   "id": "b12ad9d3",
   "metadata": {},
   "outputs": [],
   "source": [
    "import numpy as np\n",
    "import csv\n",
    "import matplotlib.pyplot as plt\n",
    "from pathlib import Path\n",
    "from scipy.stats import norm\n",
    "from sklearn.metrics import mean_squared_error\n",
    "import scipy\n",
    "import scipy.stats\n",
    "from scipy.optimize import curve_fit\n",
    "from pylab import exp\n",
    "from scipy import optimize\n",
    "from math import sqrt\n",
    "import glob\n",
    "import seaborn as sns\n",
    "import h5py   \n",
    "from matplotlib.colors import LogNorm, Normalize\n"
   ]
  },
  {
   "cell_type": "code",
   "execution_count": 2,
   "id": "d51a487c",
   "metadata": {},
   "outputs": [],
   "source": [
    "def deltat(time,ch1,ch2):\n",
    "    half1= max(ch1)/2\n",
    "    half2= max(ch2)/2\n",
    "    i=0\n",
    "    while ch1[i]<half1:\n",
    "        i=i+1\n",
    "    j=0\n",
    "    while ch2[j]<half2:\n",
    "        j=j+1\n",
    "    t1= time[i]\n",
    "    t2= time[j]\n",
    "    dt= time[j]-time[i]\n",
    "    return dt, t1 ,t2\n",
    "\n",
    "def tot(time, ch):\n",
    "    half= max(ch)/2\n",
    "    i=0\n",
    "    while ch[i]<half:\n",
    "        i=i+1\n",
    "    j=i+30\n",
    "    while ch[j]>half:\n",
    "        j=j+1\n",
    "    tott= time[j]-time[i]\n",
    "    return tott"
   ]
  },
  {
   "cell_type": "code",
   "execution_count": 3,
   "id": "5e34afa1",
   "metadata": {},
   "outputs": [
    {
     "name": "stdout",
     "output_type": "stream",
     "text": [
      "/home/pixel/Documents/Master_Thesis_Douwe_Nobels/Measurements/Scans_MPW2/scan_L2_2V_A2_8V/20221103-092015_0.h5\n"
     ]
    }
   ],
   "source": [
    "a=glob.glob(\"/home/pixel/Documents/Master_Thesis_Douwe_Nobels/Measurements/Scans_MPW2/scan_L2_2V_A2_8V/*\")\n",
    "\n",
    "a= sorted(a)\n",
    "\n",
    "print(a[0])"
   ]
  },
  {
   "cell_type": "code",
   "execution_count": 4,
   "id": "dee269ee",
   "metadata": {},
   "outputs": [],
   "source": [
    "temp=[]\n",
    "for i in range(3):\n",
    "    f= h5py.File(a[i])\n",
    "    temp.append(f)"
   ]
  },
  {
   "cell_type": "code",
   "execution_count": 5,
   "id": "a96b919f",
   "metadata": {},
   "outputs": [
    {
     "data": {
      "text/plain": [
       "<KeysViewHDF5 ['Time', 'Voltage_CHAN1', 'Voltage_CHAN2']>"
      ]
     },
     "execution_count": 5,
     "metadata": {},
     "output_type": "execute_result"
    }
   ],
   "source": [
    "temp[1].keys()"
   ]
  },
  {
   "cell_type": "code",
   "execution_count": 6,
   "id": "36f8e676",
   "metadata": {},
   "outputs": [
    {
     "data": {
      "image/png": "[encoded data removed]",
      "text/plain": [
       "<Figure size 720x720 with 1 Axes>"
      ]
     },
     "metadata": {},
     "output_type": "display_data"
    }
   ],
   "source": [
    "ch1= temp[1]['Voltage_CHAN1']\n",
    "ch1= np.array(ch1)\n",
    "ch2= temp[1][\"Voltage_CHAN2\"]\n",
    "ch2= np.array(ch2)\n",
    "\n",
    "\n",
    "time=temp[1][\"Time\"]\n",
    "\n",
    "fig = plt.figure(figsize=(10,10))\n",
    "plt.plot(time[0:16001],ch1[0:16001], label=\"ch1\")\n",
    "plt.plot(time[0:16001],ch2[0:16001], label=\"ch2\")\n",
    "\n",
    "\n",
    "plt.legend()\n",
    "fig.patch.set_facecolor('xkcd:white')\n",
    "plt.xlabel(\"$t$(ns)\",fontsize=18)\n",
    "plt.title(\"V=0\",fontsize=18)\n",
    "plt.ylabel(\"V\",fontsize=18)\n",
    "plt.show()"
   ]
  },
  {
   "cell_type": "code",
   "execution_count": 7,
   "id": "59f1335f",
   "metadata": {},
   "outputs": [
    {
     "data": {
      "text/plain": [
       "0.00661482"
      ]
     },
     "execution_count": 7,
     "metadata": {},
     "output_type": "execute_result"
    }
   ],
   "source": [
    "max(ch2)"
   ]
  },
  {
   "cell_type": "code",
   "execution_count": 8,
   "id": "33aefc25",
   "metadata": {},
   "outputs": [
    {
     "name": "stdout",
     "output_type": "stream",
     "text": [
      "CPU times: user 35.1 ms, sys: 337 µs, total: 35.5 ms\n",
      "Wall time: 35.2 ms\n"
     ]
    }
   ],
   "source": [
    "%%time\n",
    "\n",
    "pixelnames=[]\n",
    "temp=[]\n",
    "for i in range(len(a)):\n",
    "    if i==0:\n",
    "        temp.append(a[i])\n",
    "    elif a[i]==a[-1]:\n",
    "        temp.append(a[i])\n",
    "        pixelnames.append(temp)\n",
    "    elif a[i][99:105]==a[i-1][99:105]:\n",
    "        temp.append(a[i])\n",
    "    else:\n",
    "        pixelnames.append(temp)\n",
    "        temp=[]\n",
    "        temp.append(a[i])"
   ]
  },
  {
   "cell_type": "code",
   "execution_count": 9,
   "id": "1897cb68",
   "metadata": {},
   "outputs": [
    {
     "name": "stdout",
     "output_type": "stream",
     "text": [
      "/home/pixel/Documents/Master_Thesis_Douwe_Nobels/Measurements/Scans_MPW2/scan_L2_2V_A2_8V/20221103-092015_1.h5\n"
     ]
    }
   ],
   "source": [
    "print(a[1])"
   ]
  },
  {
   "cell_type": "code",
   "execution_count": 10,
   "id": "8abc206f",
   "metadata": {},
   "outputs": [
    {
     "name": "stdout",
     "output_type": "stream",
     "text": [
      "0\n",
      "1\n",
      "2\n",
      "3\n",
      "4\n",
      "5\n",
      "6\n",
      "7\n",
      "8\n",
      "9\n",
      "10\n",
      "11\n",
      "12\n",
      "13\n",
      "14\n",
      "15\n",
      "16\n",
      "17\n",
      "18\n",
      "19\n",
      "20\n",
      "21\n",
      "22\n",
      "23\n",
      "24\n",
      "25\n",
      "26\n",
      "27\n",
      "28\n",
      "29\n",
      "30\n",
      "31\n",
      "32\n",
      "33\n",
      "34\n",
      "35\n",
      "36\n",
      "37\n",
      "38\n",
      "39\n",
      "40\n",
      "41\n",
      "42\n",
      "43\n",
      "44\n",
      "45\n",
      "46\n",
      "47\n",
      "48\n",
      "49\n",
      "50\n",
      "51\n",
      "52\n",
      "53\n",
      "54\n",
      "55\n",
      "56\n",
      "57\n",
      "58\n",
      "59\n",
      "60\n",
      "61\n",
      "62\n",
      "63\n",
      "CPU times: user 3min 15s, sys: 14.5 s, total: 3min 30s\n",
      "Wall time: 4min 52s\n"
     ]
    }
   ],
   "source": [
    "%%time\n",
    "pixelsdt=[]\n",
    "pixelstot=[]\n",
    "empty=[]\n",
    "\n",
    "for i in range(len(pixelnames)):\n",
    "    temp2=[]\n",
    "    temp3=[]\n",
    "    empty1=[]\n",
    "    for j in range(len(pixelnames[i])):\n",
    "        temp1=h5py.File(pixelnames[i][j])\n",
    "        temps=temp1\n",
    "        ch1= temps['Voltage_CHAN1']\n",
    "        ch1= np.array(ch1)\n",
    "        ch2= temps[\"Voltage_CHAN2\"]\n",
    "        ch2= np.array(ch2)\n",
    "        time=temps[\"Time\"]\n",
    "        if max(ch2)<0.008:\n",
    "            empty1.append(max(ch2))\n",
    "        else:\n",
    "            dt,t2,t3 =deltat(time,ch1,ch2)\n",
    "            temp2.append(dt)\n",
    "            temp3.append(tot(time,ch2))\n",
    "        temp1.close()\n",
    "    pixelsdt.append(temp2)\n",
    "    pixelstot.append(temp3)\n",
    "    empty.append(empty1)\n",
    "    print(i)"
   ]
  },
  {
   "cell_type": "code",
   "execution_count": 12,
   "id": "84960bf6",
   "metadata": {},
   "outputs": [
    {
     "name": "stdout",
     "output_type": "stream",
     "text": [
      "13\n"
     ]
    }
   ],
   "source": [
    "k=0\n",
    "for i in range(len(empty)):\n",
    "    if (len(pixelnames[i])-len(empty[i]))>0:\n",
    "        k=k+1\n",
    "print(k)"
   ]
  },
  {
   "cell_type": "code",
   "execution_count": 23,
   "id": "37420f03",
   "metadata": {},
   "outputs": [
    {
     "name": "stderr",
     "output_type": "stream",
     "text": [
      "/home/pixel/anaconda3/lib/python3.9/site-packages/numpy/core/fromnumeric.py:1970: VisibleDeprecationWarning: Creating an ndarray from ragged nested sequences (which is a list-or-tuple of lists-or-tuples-or ndarrays with different lengths or shapes) is deprecated. If you meant to do this, you must specify 'dtype=object' when creating the ndarray.\n",
      "  result = asarray(a).shape\n"
     ]
    },
    {
     "data": {
      "text/plain": [
       "(64,)"
      ]
     },
     "execution_count": 23,
     "metadata": {},
     "output_type": "execute_result"
    }
   ],
   "source": [
    "np.shape(pixelnames)"
   ]
  },
  {
   "cell_type": "code",
   "execution_count": 83,
   "id": "4da4ecde",
   "metadata": {},
   "outputs": [
    {
     "name": "stdout",
     "output_type": "stream",
     "text": [
      "[1178, 1182, 1182, 1186, 1186, 1184, 1182, 1183, 1186, 1184, 1184, 1149, 1185, 1185, 1186, 1183, 1184, 1185, 1185, 1185, 1184, 1184, 1185, 1184, 1186, 1186, 1186, 1184, 1184, 1184, 1186, 1184, 1185, 1184, 1186, 1183, 1185, 1183, 1185, 1184, 1186, 1184, 1185, 1183, 1184, 1184, 1184, 1183, 1184, 1181, 1184, 1182, 1185, 1184, 1186, 1186, 1183, 1186, 1184, 1188, 1185, 1187, 1187, 1186]\n"
     ]
    }
   ],
   "source": [
    "hits=[]\n",
    "realhits=[]\n",
    "\n",
    "pixtot=[]\n",
    "pixdt=[]\n",
    "pixmean=[]\n",
    "\n",
    "for i in range(len(pixelnames)):\n",
    "    realhits.append(len(pixelstot[i]))\n",
    "    hits.append(len(pixelnames[i]))\n",
    "    if len(pixelstot)==0:\n",
    "        pixtot.append(0)\n",
    "        pixdt.append(0)\n",
    "    else:\n",
    "        pixtot.append(np.mean(pixelstot[i]))\n",
    "        pixdt.append(np.mean(pixelsdt[i]))\n",
    "\n",
    "\n",
    "print(hits)"
   ]
  },
  {
   "cell_type": "code",
   "execution_count": 95,
   "id": "b48bfe6d",
   "metadata": {},
   "outputs": [
    {
     "data": {
      "text/plain": [
       "1183.859375"
      ]
     },
     "execution_count": 95,
     "metadata": {},
     "output_type": "execute_result"
    }
   ],
   "source": [
    "\n",
    "totmap= np.reshape(pixtot,(8,8))\n",
    "\n",
    "\n",
    "per=[]\n",
    "\n",
    "for i in range(len(hits)):\n",
    "    per.append((realhits[i]/hits[i])*100)\n",
    "    \n",
    "permap=np.reshape(per,(8,8))\n",
    "\n",
    "np.mean(hits)"
   ]
  },
  {
   "cell_type": "code",
   "execution_count": 97,
   "id": "edf8347e",
   "metadata": {},
   "outputs": [
    {
     "data": {
      "image/png": "[encoded data removed]",
      "text/plain": [
       "<Figure size 720x504 with 2 Axes>"
      ]
     },
     "metadata": {},
     "output_type": "display_data"
    }
   ],
   "source": [
    "plt.figure(figsize = (10,7))\n",
    "plt.title('Percentage of realhits Att=2.8V',fontsize=22)\n",
    "ax=sns.heatmap(permap, linewidth=0.5,annot=True, fmt='.4g')\n",
    "ax.collections[0].colorbar.set_label(\"ps\",fontsize=22)\n",
    "plt.xlabel(\"Column\",fontsize=22)\n",
    "plt.xticks(fontsize=20)\n",
    "plt.yticks(fontsize=20)\n",
    "plt.ylabel('Row',fontsize=22)\n",
    "fig.patch.set_facecolor('xkcd:white')\n",
    "sns.set_theme(style='white')\n",
    "ax.invert_yaxis()\n",
    "plt.show()"
   ]
  },
  {
   "cell_type": "code",
   "execution_count": null,
   "id": "e53f9724",
   "metadata": {},
   "outputs": [],
   "source": [
    "plt.figure(figsize = (10,7))\n",
    "plt.title('Time over Threshold map Att=2.2V',fontsize=22)\n",
    "ax=sns.heatmap(totmap, linewidth=0.5,norm=LogNorm(),annot=True, fmt='.3g')\n",
    "ax.collections[0].colorbar.set_label(\"ns\",fontsize=18)\n",
    "plt.xlabel(\"Row\",fontsize=18)\n",
    "plt.ylabel('Column',fontsize=18)\n",
    "plt.xticks(fontsize=20)\n",
    "plt.yticks(fontsize=20)\n",
    "fig.patch.set_facecolor('xkcd:white')\n",
    "sns.set_theme(style='white')\n",
    "ax.invert_yaxis()\n",
    "plt.show()"
   ]
  },
  {
   "cell_type": "code",
   "execution_count": null,
   "id": "f0865c63",
   "metadata": {},
   "outputs": [],
   "source": [
    "totmap[0,3]\n",
    "contot=[]\n",
    "conres=[]\n",
    "for i in range(4):\n",
    "    for j in range(8):\n",
    "        contot.append(totmap[j,i])\n",
    "        conres.append(sigmap[j,i])\n",
    "\n",
    "switchtot= []\n",
    "switchres=[]\n",
    "for i in range(4,8):\n",
    "    for j in range(8):\n",
    "        switchtot.append(totmap[j,i])\n",
    "        switchres.append(sigmap[j,i])"
   ]
  },
  {
   "cell_type": "code",
   "execution_count": null,
   "id": "00ef750d",
   "metadata": {},
   "outputs": [],
   "source": [
    "fig = plt.figure(figsize=(10,10))\n",
    "plt.scatter(switchtot,switchres, label=\"Switched pixels\")\n",
    "plt.scatter(contot,conres, label=\"Continuous pixels\")\n",
    "\n",
    "plt.legend()\n",
    "fig.patch.set_facecolor('xkcd:white')\n",
    "plt.ylabel(\"Time resolution(ns)\",fontsize=18)\n",
    "plt.title(\"Time resolution vs ToT, Att=2.2V\",fontsize=18)\n",
    "plt.xlabel(\"ToT(ns)\",fontsize=18)\n",
    "plt.grid()\n",
    "plt.xticks(fontsize=15)\n",
    "plt.yticks(fontsize=15)\n",
    "plt.legend(fontsize=14)\n",
    "plt.show()"
   ]
  },
  {
   "cell_type": "code",
   "execution_count": null,
   "id": "a061e803",
   "metadata": {},
   "outputs": [],
   "source": [
    "timeres= conres\n",
    "\n",
    "for i in range(len(switchres)):\n",
    "    timeres.append(switchres[i])\n",
    "    \n",
    "    \n",
    "totlist= contot\n",
    "\n",
    "for i in range(len(switchtot)):\n",
    "    totlist.append(switchtot[i])"
   ]
  },
  {
   "cell_type": "code",
   "execution_count": null,
   "id": "edb7eb6f",
   "metadata": {},
   "outputs": [],
   "source": []
  },
  {
   "cell_type": "code",
   "execution_count": null,
   "id": "bd540351",
   "metadata": {},
   "outputs": [],
   "source": [
    "mean= np.mean(timeres)\n",
    "std= np.std(timeres)\n",
    "amount= len(timeres)\n",
    "fig = plt.figure(figsize=(10,10))\n",
    "plt.hist(timeres, bins=50, alpha=0.6, color='b')\n",
    "plt.xlabel(\"$\\sigma_t$(ps)\",fontsize=18)\n",
    "plt.ylabel(\"counts\",fontsize=18)\n",
    "\n",
    "plt.title(\"Pixels time resolution\",fontsize=18)\n",
    "fig.patch.set_facecolor('xkcd:white')\n",
    "plt.plot([],[],label=\"mean={:.1f}\".format(mean))\n",
    "plt.plot([],[],label=\"std={:.1f}\".format(std))\n",
    "plt.plot([],[],\"\" ,label=\"number of entries {:.1f}\".format(amount))\n",
    "plt.annotate(\"mean={:.1f}\".format(mean),xy=(1250,22),fontsize=14)\n",
    "plt.annotate(\"std.dev.={:.1f}\".format(std),xy=(1250,21),fontsize=14)\n",
    "plt.annotate(\"number of entries {}\".format(amount),xy=(1250,20),fontsize=14)\n",
    "\n",
    "\n",
    "\n",
    "\n",
    "\n",
    "plt.show()"
   ]
  },
  {
   "cell_type": "code",
   "execution_count": null,
   "id": "f7317bde",
   "metadata": {},
   "outputs": [],
   "source": [
    "mean= np.mean(timeres)\n",
    "std= np.std(timeres)\n",
    "amount= len(timeres)\n",
    "fig = plt.figure(figsize=(10,10))\n",
    "plt.hist(timeres, bins=50, alpha=0.6, color='b',range=(200,400))\n",
    "plt.xlabel(\"$\\sigma_t$(ns)\",fontsize=18)\n",
    "plt.ylabel(\"counts\",fontsize=18)\n",
    "\n",
    "plt.title(\"Pixels time resolution\",fontsize=18)\n",
    "fig.patch.set_facecolor('xkcd:white')\n",
    "plt.plot([],[],label=\"mean={:.1f}\".format(mean))\n",
    "plt.plot([],[],label=\"std={:.1f}\".format(std))\n",
    "plt.plot([],[],\"\" ,label=\"number of entries {:.1f}\".format(amount))\n",
    "plt.annotate(\"mean={:.1f}\".format(mean),xy=(1250,22),fontsize=14)\n",
    "plt.annotate(\"std={:.1f}\".format(std),xy=(1250,21),fontsize=14)\n",
    "plt.annotate(\"number of entries {}\".format(amount),xy=(1250,20),fontsize=14)\n",
    "\n",
    "\n",
    "\n",
    "\n",
    "\n",
    "plt.show()\n",
    "\n"
   ]
  },
  {
   "cell_type": "code",
   "execution_count": null,
   "id": "f6f83af6",
   "metadata": {},
   "outputs": [],
   "source": [
    "new=[]\n",
    "\n",
    "for i in range(len(timeres)):\n",
    "    if timeres[i]<400:\n",
    "        new.append(timeres[i])\n",
    "        \n",
    "    "
   ]
  },
  {
   "cell_type": "code",
   "execution_count": null,
   "id": "b138f67c",
   "metadata": {},
   "outputs": [],
   "source": [
    "mean= np.mean(new)\n",
    "std= np.std(new)\n",
    "amount= len(new)\n",
    "fig = plt.figure(figsize=(10,10))\n",
    "plt.hist(new, bins=50, alpha=0.6, color='b',range=(200,400))\n",
    "plt.xlabel(\"$\\sigma_t$(ps)\",fontsize=18)\n",
    "plt.ylabel(\"counts\",fontsize=18)\n",
    "\n",
    "plt.title(\"Pixels time resolution\",fontsize=18)\n",
    "fig.patch.set_facecolor('xkcd:white')\n",
    "plt.plot([],[],label=\"mean={:.1f}\".format(mean))\n",
    "plt.plot([],[],label=\"std={:.1f}\".format(std))\n",
    "plt.plot([],[],\"\" ,label=\"number of entries {:.1f}\".format(amount))\n",
    "plt.annotate(\"mean={:.1f}\".format(mean),xy=(350,5),fontsize=14)\n",
    "plt.annotate(\"std={:.1f}\".format(std),xy=(350,4.75),fontsize=14)\n",
    "plt.annotate(\"number of entries {}\".format(amount),xy=(350,4.5),fontsize=14)\n",
    "\n",
    "\n",
    "\n",
    "\n",
    "\n",
    "plt.show()"
   ]
  },
  {
   "cell_type": "code",
   "execution_count": null,
   "id": "9cff5afe",
   "metadata": {},
   "outputs": [],
   "source": [
    "np.std(new)"
   ]
  },
  {
   "cell_type": "code",
   "execution_count": null,
   "id": "1bcb2d50",
   "metadata": {},
   "outputs": [],
   "source": [
    "def q(tot):\n",
    "    return (tot-36.10)/0.0084"
   ]
  },
  {
   "cell_type": "code",
   "execution_count": null,
   "id": "34ea66c5",
   "metadata": {},
   "outputs": [],
   "source": [
    "charge=[]\n",
    "for i in range(len(tot2)):\n",
    "    ch= q(tot2[i])\n",
    "    charge.append(ch)\n",
    "    \n",
    "chargemap= np.reshape(charge,(8,8))\n"
   ]
  },
  {
   "cell_type": "code",
   "execution_count": null,
   "id": "a43675b6",
   "metadata": {},
   "outputs": [],
   "source": [
    "plt.figure(figsize = (10,7))\n",
    "plt.title('Injected Charges in Electrons Map',fontsize=22)\n",
    "ax=sns.heatmap(chargemap, linewidth=0.5,annot=True, fmt='.2g')\n",
    "ax.collections[0].colorbar.set_label(\"ns\",fontsize=18)\n",
    "plt.xlabel(\"Row\",fontsize=18)\n",
    "plt.ylabel('Column',fontsize=18)\n",
    "fig.patch.set_facecolor('xkcd:white')\n",
    "\n",
    "plt.show()"
   ]
  },
  {
   "cell_type": "code",
   "execution_count": null,
   "id": "ec966505",
   "metadata": {},
   "outputs": [],
   "source": [
    "tot2[-1]"
   ]
  },
  {
   "cell_type": "code",
   "execution_count": null,
   "id": "4fc584c9",
   "metadata": {},
   "outputs": [],
   "source": []
  },
  {
   "cell_type": "code",
   "execution_count": null,
   "id": "005b55f0",
   "metadata": {},
   "outputs": [],
   "source": [
    "mean= np.mean(totlist)\n",
    "std= np.std(totlist)\n",
    "amount= len(totlist)\n",
    "fig = plt.figure(figsize=(10,10))\n",
    "plt.hist(totlist, bins=50, alpha=0.6, color='b')\n",
    "plt.xlabel(\"$\\sigma_t$(ns)\",fontsize=18)\n",
    "plt.ylabel(\"counts\",fontsize=18)\n",
    "\n",
    "plt.title(\"Pixels time over threshold\",fontsize=18)\n",
    "fig.patch.set_facecolor('xkcd:white')\n",
    "plt.plot([],[],label=\"mean={:.1f}\".format(mean))\n",
    "plt.plot([],[],label=\"std={:.1f}\".format(std))\n",
    "plt.plot([],[],\"\" ,label=\"number of entries {:.1f}\".format(amount))\n",
    "plt.annotate(\"mean={:.1f}\".format(mean),xy=(175,13),fontsize=14)\n",
    "plt.annotate(\"std.dev={:.1f}\".format(std),xy=(175,12.5),fontsize=14)\n",
    "plt.annotate(\"number of entries {}\".format(amount),xy=(175,12),fontsize=14)\n",
    "\n",
    "\n",
    "\n",
    "\n",
    "\n",
    "plt.show()"
   ]
  },
  {
   "cell_type": "code",
   "execution_count": null,
   "id": "0ed43adc",
   "metadata": {},
   "outputs": [],
   "source": [
    "test=pixelsdt[10]\n",
    "np.std(test)*1000\n",
    "amounts= len(pixelsdt[10])"
   ]
  },
  {
   "cell_type": "code",
   "execution_count": null,
   "id": "47f65954",
   "metadata": {},
   "outputs": [],
   "source": [
    "def Gaussian(x,a,b,c):\n",
    "    return a * exp(-(x - b)**2.0 / (2 * c**2))"
   ]
  },
  {
   "cell_type": "code",
   "execution_count": null,
   "id": "fe2c74d8",
   "metadata": {},
   "outputs": [],
   "source": [
    "det00=[]\n",
    "for i in range(len(test)):\n",
    "    det00.append(test[i]-np.mean(test))"
   ]
  },
  {
   "cell_type": "code",
   "execution_count": null,
   "id": "a571aac7",
   "metadata": {},
   "outputs": [],
   "source": [
    "nbins=60\n",
    "n,bins,patches = plt.hist(det00,bins=nbins)\n",
    "\n",
    "fig = plt.figure(figsize=(10,10))\n",
    "\n",
    "bin_size = abs(bins[1]-bins[0])\n",
    "x =np.linspace(start=bins[0]+bin_size/2.0,stop=bins[-2]+bin_size/2.0,\\\n",
    "num=nbins,endpoint=True)\n",
    "\n",
    "\n",
    "y = n\n",
    "y[y==0]= 1e-8\n",
    "\n",
    "for i in range(len(n)):\n",
    "    if n[i] ==1e-8:\n",
    "        n[i]= (n[i-1]+n[i+1])/2\n",
    "\n",
    "\n",
    "\n",
    "\n",
    "\n",
    "\n",
    "popt, pcov = optimize.curve_fit(Gaussian,x,n) \n",
    "\n",
    "# Curve-fit error method\n",
    "error = [] \n",
    "for i in range(len(popt)):\n",
    "    try:\n",
    "      error.append( np.absolute(pcov[i][i])**0.5)\n",
    "    except:\n",
    "      error.append( 0.00 )\n",
    "pfit_curvefit = popt\n",
    "perr_curvefit = np.array(error) \n",
    "print('\\n Curve-fit Curve fit: %s' % pfit_curvefit)\n",
    "print('\\n Curve-fit Fit errors: %s' % perr_curvefit)\n",
    "\n",
    "\n",
    "std=popt[2]*1000\n",
    "amount=nbins\n",
    "# Plot the fit\n",
    "x_fit = np.linspace(x[0], x[-1], nbins)\n",
    "y_gauss = Gaussian(x_fit, *popt)\n",
    "yerr=Gaussian(x_fit,*perr_curvefit)\n",
    "plt.bar(x,n, width=bin_size)\n",
    "plt.plot(x_fit, y_gauss,linestyle='--',linewidth=2,\\\n",
    "color='red',label='Gaussian')\n",
    "\n",
    "chi_square_test_statistic1 = 0\n",
    "for i in range(len(n)):\n",
    "    chi_square_test_statistic1 = chi_square_test_statistic1 + \\\n",
    "        (np.square(n[i]-y_gauss[i]))/y_gauss[i]\n",
    "\n",
    "chi2=chi_square_test_statistic1\n",
    "plt.annotate(\"std.dev={:.1f}ps\".format(std),xy=(0.5,110),fontsize=14)\n",
    "plt.annotate(\"number of bins: {}\".format(amount),xy=(0.5,105),fontsize=14)\n",
    "plt.annotate(\"number of samples: {}\".format(amounts),xy=(0.5,100),fontsize=14)\n",
    "plt.annotate(\"$\\chi^2$ ={:.2f}\".format(chi2),xy=(0.5,95),fontsize=14)\n",
    "plt.xticks(fontsize=18)\n",
    "plt.yticks(fontsize=18)\n",
    "plt.xlabel(\"Time(ns)\",fontsize=18)\n",
    "plt.ylabel(\"# of samples\",fontsize=18)\n",
    "\n",
    "plt.show()\n",
    "print(perr_curvefit[2]*1000)"
   ]
  },
  {
   "cell_type": "code",
   "execution_count": null,
   "id": "43e33055",
   "metadata": {},
   "outputs": [],
   "source": []
  }
 ],
 "metadata": {
  "kernelspec": {
   "display_name": "Python 3 (ipykernel)",
   "language": "python",
   "name": "python3"
  },
  "language_info": {
   "codemirror_mode": {
    "name": "ipython",
    "version": 3
   },
   "file_extension": ".py",
   "mimetype": "text/x-python",
   "name": "python",
   "nbconvert_exporter": "python",
   "pygments_lexer": "ipython3",
   "version": "3.9.12"
  }
 },
 "nbformat": 4,
 "nbformat_minor": 5
}
