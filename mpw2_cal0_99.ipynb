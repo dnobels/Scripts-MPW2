{
 "cells": [
  {
   "cell_type": "code",
   "execution_count": 1,
   "id": "198ca5fc-7b68-42ae-8a97-34a4f37fda40",
   "metadata": {},
   "outputs": [],
   "source": [
    "import numpy as np\n",
    "import csv\n",
    "import matplotlib.pyplot as plt\n",
    "from pathlib import Path\n",
    "from scipy.stats import norm\n",
    "import scipy\n",
    "import scipy.stats\n",
    "from scipy.optimize import curve_fit\n",
    "from pylab import exp\n",
    "from scipy import optimize\n",
    "from math import sqrt\n",
    "import glob\n",
    "import h5py   \n",
    "from matplotlib.colors import LogNorm, Normalize\n",
    "from scipy.interpolate import interp1d"
   ]
  },
  {
   "cell_type": "code",
   "execution_count": 2,
   "id": "eb57419c-e883-4c46-8c41-f2b981292cd0",
   "metadata": {},
   "outputs": [],
   "source": [
    "def deltat(time,ch1,ch2):\n",
    "    half1= max(ch1)/2\n",
    "    half2= max(ch2)/2\n",
    "    i=0\n",
    "    while ch1[i]<half1:\n",
    "        i=i+1\n",
    "    j=0\n",
    "    while ch2[j]<half2:\n",
    "        j=j+1\n",
    "    t1= time[i]\n",
    "    t2= time[j]\n",
    "    dt= time[j]-time[i]\n",
    "    return dt, t1 ,t2\n",
    "\n",
    "def tot(time, ch):\n",
    "    half= (max(ch)-min(ch))/2 + min(ch) #find half point of the rise\n",
    "    i=0\n",
    "    while ch[i]<half: #find the element which is higher then the halfpoint\n",
    "        i=i+1\n",
    "    x1= [time[i-1],time[i]]\n",
    "    y1= [ch[i-1],ch[i]]\n",
    "    xnew1= np.linspace(time[i-1],time[i],200)\n",
    "    f1 = interp1d(x1, y1)#linearly interpolate of these two points\n",
    "    ynew1= f1(xnew1)\n",
    "    k=0\n",
    "    while ynew1[k]<half:\n",
    "        k=k+1#find the right point of the interpolation\n",
    "    j=i+30 #no do the same for the falling edge\n",
    "    while ch[j]>half:\n",
    "        j=j+1\n",
    "    \n",
    "    x2= [time[j-1],time[j]]\n",
    "    y2= [ch[j-1],ch[j]]\n",
    "    xnew2= np.linspace(time[j-1],time[j],200)\n",
    "    f2 = interp1d(x2, y2)\n",
    "    ynew2= f2(xnew2)\n",
    "    z=0\n",
    "    while ynew2[z]<half:\n",
    "        z=z+1\n",
    "    tott= xnew2[z]- xnew1[k]#calculate the tot\n",
    "    return tott"
   ]
  },
  {
   "cell_type": "code",
   "execution_count": 3,
   "id": "ae9fd82f-777c-4cbc-a41f-bc85122c0a22",
   "metadata": {},
   "outputs": [
    {
     "data": {
      "text/plain": [
       "112034"
      ]
     },
     "execution_count": 3,
     "metadata": {},
     "output_type": "execute_result"
    }
   ],
   "source": [
    "a=glob.glob(\"/data/detrd/ukraemer/osci_data/cal_scan_P0_99V_P16_6ms_W50us_B100V/*\")\n",
    "\n",
    "a= sorted(a)\n",
    "\n",
    "len(a)"
   ]
  },
  {
   "cell_type": "code",
   "execution_count": 4,
   "id": "b2950989-7b15-4d17-b45a-2663d05b0a3e",
   "metadata": {},
   "outputs": [],
   "source": [
    "pixelnames=[]\n",
    "temp=[]\n",
    "for i in range(len(a)):\n",
    "    if i==0:\n",
    "        temp.append(a[i])\n",
    "    elif a[i]==a[-1]:\n",
    "        temp.append(a[i])\n",
    "        pixelnames.append(temp)\n",
    "    elif a[i][76:82]==a[i-1][76:82]:\n",
    "        temp.append(a[i])\n",
    "    else:\n",
    "        pixelnames.append(temp)\n",
    "        temp=[]\n",
    "        temp.append(a[i])"
   ]
  },
  {
   "cell_type": "code",
   "execution_count": 5,
   "id": "999fc562-8607-4b80-a6ba-f5a7d1251589",
   "metadata": {},
   "outputs": [
    {
     "data": {
      "text/plain": [
       "64"
      ]
     },
     "execution_count": 5,
     "metadata": {},
     "output_type": "execute_result"
    }
   ],
   "source": [
    "len(pixelnames)"
   ]
  },
  {
   "cell_type": "code",
   "execution_count": 6,
   "id": "984d8f60-0f1c-49aa-95c6-c086edf4109e",
   "metadata": {},
   "outputs": [],
   "source": [
    "temp=[]\n",
    "for i in range(3):\n",
    "    f= h5py.File(a[i])\n",
    "    temp.append(f)\n",
    "time=np.array(temp[1][\"Time\"])"
   ]
  },
  {
   "cell_type": "code",
   "execution_count": 7,
   "id": "1ada7687-83c8-4d66-8d80-46cce4e5cfb1",
   "metadata": {},
   "outputs": [
    {
     "name": "stdout",
     "output_type": "stream",
     "text": [
      "0\n",
      "1\n",
      "2\n",
      "3\n",
      "4\n",
      "5\n",
      "6\n",
      "7\n",
      "8\n",
      "9\n",
      "10\n",
      "11\n",
      "12\n",
      "13\n",
      "14\n",
      "15\n",
      "16\n",
      "17\n",
      "18\n",
      "19\n",
      "20\n",
      "21\n",
      "22\n",
      "23\n",
      "24\n",
      "25\n",
      "26\n",
      "27\n",
      "28\n",
      "29\n",
      "30\n",
      "31\n",
      "32\n",
      "33\n",
      "34\n",
      "35\n",
      "36\n",
      "37\n",
      "38\n",
      "39\n",
      "40\n",
      "41\n",
      "42\n",
      "43\n",
      "44\n",
      "45\n",
      "46\n",
      "47\n",
      "48\n",
      "49\n",
      "50\n",
      "51\n",
      "52\n",
      "53\n",
      "54\n",
      "55\n",
      "56\n",
      "57\n",
      "58\n",
      "59\n",
      "60\n",
      "61\n",
      "62\n",
      "63\n",
      "CPU times: user 16min 47s, sys: 24.9 s, total: 17min 11s\n",
      "Wall time: 33min 37s\n"
     ]
    }
   ],
   "source": [
    "%%time\n",
    "pixelsdt=[]\n",
    "pixelstot=[]\n",
    "\n",
    "\n",
    "for i in range(len(pixelnames)):\n",
    "    temp2=[]\n",
    "    temp3=[]\n",
    "    for j in range(len(pixelnames[i])):\n",
    "        temp1=h5py.File(pixelnames[i][j])\n",
    "        ch1= temp1[\"Voltage_CHAN1\"]\n",
    "        ch1= np.array(ch1)\n",
    "        ch2= temp1[\"Voltage_CHAN2\"]\n",
    "        ch2= np.array(ch2)\n",
    "        if max(ch2)<0.1:\n",
    "            empty1.append(max(ch2))\n",
    "        else:\n",
    "            dt,t2,t3 =deltat(time,ch1,ch2)\n",
    "            temp2.append(dt)\n",
    "            temp3.append(tot(time,ch2))\n",
    "        temp1.close()\n",
    "    pixelsdt.append(temp2)\n",
    "    pixelstot.append(temp3)\n",
    "    print(i)"
   ]
  },
  {
   "cell_type": "code",
   "execution_count": 8,
   "id": "e0701bdf-b6ce-4807-ae28-e9dee62effdc",
   "metadata": {},
   "outputs": [
    {
     "name": "stderr",
     "output_type": "stream",
     "text": [
      "/opt/tljh/user/lib/python3.7/site-packages/numpy/core/_asarray.py:102: VisibleDeprecationWarning: Creating an ndarray from ragged nested sequences (which is a list-or-tuple of lists-or-tuples-or ndarrays with different lengths or shapes) is deprecated. If you meant to do this, you must specify 'dtype=object' when creating the ndarray.\n",
      "  return array(a, dtype, copy=False, order=order)\n"
     ]
    }
   ],
   "source": [
    "datafile=[]\n",
    "\n",
    "for i in range(len(pixelstot)):\n",
    "    temp=[]\n",
    "    for j in range(len(pixelstot[i])):\n",
    "        temp.append(pixelstot[i][j])\n",
    "    datafile.append(temp)\n",
    "    \n",
    "datafile= np.transpose(datafile)\n",
    "\n",
    "np.savetxt(\"cal_scan_P0_99V_P16_6ms_W50us_B100V_tot\",datafile, fmt='%s')"
   ]
  },
  {
   "cell_type": "code",
   "execution_count": 9,
   "id": "db21144d-abbe-40e9-86c8-2e694d55ee8d",
   "metadata": {},
   "outputs": [],
   "source": [
    "datafile1=[]\n",
    "\n",
    "for i in range(len(pixelsdt)):\n",
    "    temp=[]\n",
    "    for j in range(len(pixelsdt[i])):\n",
    "        temp.append(pixelsdt[i][j])\n",
    "    datafile1.append(temp)\n",
    "    \n",
    "datafile1= np.transpose(datafile1)\n",
    "\n",
    "np.savetxt(\"cal_scan_P0_99V_P16_6ms_W50us_B100V_deltat\",datafile1, fmt='%s')\n",
    "\n"
   ]
  },
  {
   "cell_type": "code",
   "execution_count": null,
   "id": "48ce05ce-1197-45f7-ae02-ade709d38dce",
   "metadata": {},
   "outputs": [],
   "source": []
  }
 ],
 "metadata": {
  "kernelspec": {
   "display_name": "Python 3 (ipykernel)",
   "language": "python",
   "name": "python3"
  },
  "language_info": {
   "codemirror_mode": {
    "name": "ipython",
    "version": 3
   },
   "file_extension": ".py",
   "mimetype": "text/x-python",
   "name": "python",
   "nbconvert_exporter": "python",
   "pygments_lexer": "ipython3",
   "version": "3.7.11"
  }
 },
 "nbformat": 4,
 "nbformat_minor": 5
}
