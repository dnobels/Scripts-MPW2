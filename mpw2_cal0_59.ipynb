{
 "cells": [
  {
   "cell_type": "code",
   "execution_count": 1,
   "id": "198ca5fc-7b68-42ae-8a97-34a4f37fda40",
   "metadata": {},
   "outputs": [],
   "source": [
    "import numpy as np\n",
    "import csv\n",
    "import matplotlib.pyplot as plt\n",
    "from pathlib import Path\n",
    "from scipy.stats import norm\n",
    "import scipy\n",
    "import scipy.stats\n",
    "from scipy.optimize import curve_fit\n",
    "from pylab import exp\n",
    "from scipy import optimize\n",
    "from math import sqrt\n",
    "import glob\n",
    "import h5py   \n",
    "from matplotlib.colors import LogNorm, Normalize\n",
    "from scipy.interpolate import interp1d"
   ]
  },
  {
   "cell_type": "code",
   "execution_count": 2,
   "id": "eb57419c-e883-4c46-8c41-f2b981292cd0",
   "metadata": {},
   "outputs": [],
   "source": [
    "def deltat(time,ch1,ch2):\n",
    "    half1= max(ch1)/2\n",
    "    half2= max(ch2)/2\n",
    "    i=0\n",
    "    while ch1[i]<half1:\n",
    "        i=i+1\n",
    "    j=0\n",
    "    while ch2[j]<half2:\n",
    "        j=j+1\n",
    "    t1= time[i]\n",
    "    t2= time[j]\n",
    "    dt= time[j]-time[i]\n",
    "    return dt, t1 ,t2\n",
    "\n",
    "def tot(time, ch):\n",
    "    half= (max(ch)-min(ch))/2 + min(ch) #find half point of the rise\n",
    "    i=0\n",
    "    while ch[i]<half: #find the element which is higher then the halfpoint\n",
    "        i=i+1\n",
    "    x1= [time[i-1],time[i]]\n",
    "    y1= [ch[i-1],ch[i]]\n",
    "    xnew1= np.linspace(time[i-1],time[i],200)\n",
    "    f1 = interp1d(x1, y1)#linearly interpolate of these two points\n",
    "    ynew1= f1(xnew1)\n",
    "    k=0\n",
    "    while ynew1[k]<half:\n",
    "        k=k+1#find the right point of the interpolation\n",
    "    j=i+30 #no do the same for the falling edge\n",
    "    while ch[j]>half:\n",
    "        j=j+1\n",
    "    \n",
    "    x2= [time[j-1],time[j]]\n",
    "    y2= [ch[j-1],ch[j]]\n",
    "    xnew2= np.linspace(time[j-1],time[j],200)\n",
    "    f2 = interp1d(x2, y2)\n",
    "    ynew2= f2(xnew2)\n",
    "    z=0\n",
    "    while ynew2[z]<half:\n",
    "        z=z+1\n",
    "    tott= xnew2[z]- xnew1[k]#calculate the tot\n",
    "    return tott"
   ]
  },
  {
   "cell_type": "code",
   "execution_count": 3,
   "id": "ae9fd82f-777c-4cbc-a41f-bc85122c0a22",
   "metadata": {},
   "outputs": [
    {
     "data": {
      "text/plain": [
       "110004"
      ]
     },
     "execution_count": 3,
     "metadata": {},
     "output_type": "execute_result"
    }
   ],
   "source": [
    "a=glob.glob(\"/data/detrd/ukraemer/osci_data/cal_scan_P0_59V_P16_6ms_W50us_B100V/*\")\n",
    "\n",
    "a= sorted(a)\n",
    "\n",
    "len(a)"
   ]
  },
  {
   "cell_type": "code",
   "execution_count": 4,
   "id": "b2950989-7b15-4d17-b45a-2663d05b0a3e",
   "metadata": {},
   "outputs": [],
   "source": [
    "pixelnames=[]\n",
    "temp=[]\n",
    "for i in range(len(a)):\n",
    "    if i==0:\n",
    "        temp.append(a[i])\n",
    "    elif a[i]==a[-1]:\n",
    "        temp.append(a[i])\n",
    "        pixelnames.append(temp)\n",
    "    elif a[i][76:82]==a[i-1][76:82]:\n",
    "        temp.append(a[i])\n",
    "    else:\n",
    "        pixelnames.append(temp)\n",
    "        temp=[]\n",
    "        temp.append(a[i])"
   ]
  },
  {
   "cell_type": "code",
   "execution_count": 5,
   "id": "86043676-5474-4e3f-b550-05ae091ff4bb",
   "metadata": {},
   "outputs": [],
   "source": [
    "temp=[]\n",
    "for i in range(3):\n",
    "    f= h5py.File(a[i])\n",
    "    temp.append(f)\n",
    "time=np.array(temp[1][\"Time\"])"
   ]
  },
  {
   "cell_type": "code",
   "execution_count": 6,
   "id": "bfaa387b-aac5-4227-ab70-bfce1f0a7167",
   "metadata": {},
   "outputs": [
    {
     "data": {
      "text/plain": [
       "64"
      ]
     },
     "execution_count": 6,
     "metadata": {},
     "output_type": "execute_result"
    }
   ],
   "source": [
    "len(pixelnames)"
   ]
  },
  {
   "cell_type": "code",
   "execution_count": 7,
   "id": "1ada7687-83c8-4d66-8d80-46cce4e5cfb1",
   "metadata": {},
   "outputs": [
    {
     "name": "stdout",
     "output_type": "stream",
     "text": [
      "0\n",
      "1\n",
      "2\n",
      "3\n",
      "4\n",
      "5\n",
      "6\n",
      "7\n",
      "8\n",
      "9\n",
      "10\n",
      "11\n",
      "12\n",
      "13\n",
      "14\n",
      "15\n",
      "16\n",
      "17\n",
      "18\n",
      "19\n",
      "20\n",
      "21\n",
      "22\n",
      "23\n",
      "24\n",
      "25\n",
      "26\n",
      "27\n",
      "28\n",
      "29\n",
      "30\n",
      "31\n",
      "32\n",
      "33\n",
      "34\n",
      "35\n",
      "36\n",
      "37\n",
      "38\n",
      "39\n",
      "40\n",
      "41\n",
      "42\n",
      "43\n",
      "44\n",
      "45\n",
      "46\n",
      "47\n",
      "48\n",
      "49\n",
      "50\n",
      "51\n",
      "52\n",
      "53\n",
      "54\n",
      "55\n",
      "56\n",
      "57\n",
      "58\n",
      "59\n",
      "60\n",
      "61\n",
      "62\n",
      "63\n",
      "CPU times: user 26min 41s, sys: 31.9 s, total: 27min 13s\n",
      "Wall time: 34min 52s\n"
     ]
    }
   ],
   "source": [
    "%%time\n",
    "pixelsdt=[]\n",
    "pixelstot=[]\n",
    "\n",
    "\n",
    "for i in range(len(pixelnames)):\n",
    "    temp2=[]\n",
    "    temp3=[]\n",
    "    for j in range(len(pixelnames[i])):\n",
    "        temp1=h5py.File(pixelnames[i][j])\n",
    "        ch1= temp1[\"Voltage_CHAN1\"]\n",
    "        ch1= np.array(ch1)\n",
    "        ch2= temp1[\"Voltage_CHAN2\"]\n",
    "        ch2= np.array(ch2)\n",
    "        if max(ch2)<0.1:\n",
    "            empty1.append(max(ch2))\n",
    "        else:\n",
    "            dt,t2,t3 =deltat(time,ch1,ch2)\n",
    "            temp2.append(dt)\n",
    "            temp3.append(tot(time,ch2))\n",
    "        temp1.close()\n",
    "    pixelsdt.append(temp2)\n",
    "    pixelstot.append(temp3)\n",
    "    print(i)"
   ]
  },
  {
   "cell_type": "code",
   "execution_count": 8,
   "id": "e0701bdf-b6ce-4807-ae28-e9dee62effdc",
   "metadata": {},
   "outputs": [
    {
     "name": "stderr",
     "output_type": "stream",
     "text": [
      "/opt/tljh/user/lib/python3.7/site-packages/numpy/core/_asarray.py:102: VisibleDeprecationWarning: Creating an ndarray from ragged nested sequences (which is a list-or-tuple of lists-or-tuples-or ndarrays with different lengths or shapes) is deprecated. If you meant to do this, you must specify 'dtype=object' when creating the ndarray.\n",
      "  return array(a, dtype, copy=False, order=order)\n"
     ]
    }
   ],
   "source": [
    "datafile=[]\n",
    "\n",
    "for i in range(len(pixelstot)):\n",
    "    temp=[]\n",
    "    for j in range(len(pixelstot[i])):\n",
    "        temp.append(pixelstot[i][j])\n",
    "    datafile.append(temp)\n",
    "    \n",
    "datafile= np.transpose(datafile)\n",
    "\n",
    "np.savetxt(\"cal_scan_P0_59V_P16_6ms_W50us_B100V_tot\",datafile, fmt='%s')"
   ]
  },
  {
   "cell_type": "code",
   "execution_count": 9,
   "id": "db21144d-abbe-40e9-86c8-2e694d55ee8d",
   "metadata": {},
   "outputs": [],
   "source": [
    "datafile1=[]\n",
    "\n",
    "for i in range(len(pixelsdt)):\n",
    "    temp=[]\n",
    "    for j in range(len(pixelsdt[i])):\n",
    "        temp.append(pixelsdt[i][j])\n",
    "    datafile1.append(temp)\n",
    "    \n",
    "datafile1= np.transpose(datafile1)\n",
    "\n",
    "np.savetxt(\"cal_scan_P0_59V_P16_6ms_W50us_B100V_deltat\",datafile1, fmt='%s')\n",
    "\n"
   ]
  },
  {
   "cell_type": "code",
   "execution_count": 10,
   "id": "48ce05ce-1197-45f7-ae02-ade709d38dce",
   "metadata": {},
   "outputs": [],
   "source": [
    "def Gaussian(x,a,b,c):\n",
    "    return a * exp(-(x - b)**2.0 / (2 * c**2))"
   ]
  },
  {
   "cell_type": "code",
   "execution_count": null,
   "id": "3640fb7c-b95b-4964-beb6-693ea311369c",
   "metadata": {},
   "outputs": [],
   "source": []
  },
  {
   "cell_type": "code",
   "execution_count": 11,
   "id": "5b1b6b6d-6862-4521-9416-e983b9948744",
   "metadata": {},
   "outputs": [],
   "source": [
    "det=pixelsdt[11]"
   ]
  },
  {
   "cell_type": "code",
   "execution_count": 12,
   "id": "afc050a8-a6cd-4680-812a-1e7b01584215",
   "metadata": {},
   "outputs": [],
   "source": [
    "det0=[]\n",
    "for i in range(len(det)):\n",
    "    det0.append(det[i]-np.mean(det))"
   ]
  },
  {
   "cell_type": "code",
   "execution_count": 13,
   "id": "0c7822e0-a588-40d7-b263-d4fd2bc13f99",
   "metadata": {},
   "outputs": [],
   "source": [
    "det0=np.asarray(det0)*10**9"
   ]
  },
  {
   "cell_type": "code",
   "execution_count": 32,
   "id": "7b605727-734e-4796-894b-1e6365650efb",
   "metadata": {},
   "outputs": [
    {
     "name": "stdout",
     "output_type": "stream",
     "text": [
      "\n",
      " Curve-fit Curve fit: [3.39771036e+02 6.20054188e-04 1.16676298e-01]\n",
      "\n",
      " Curve-fit Fit errors: [4.43950158e+00 1.76031201e-03 1.76046450e-03]\n"
     ]
    },
    {
     "data": {
      "image/png": "[encoded data removed]",
      "text/plain": [
       "<Figure size 720x720 with 1 Axes>"
      ]
     },
     "metadata": {},
     "output_type": "display_data"
    }
   ],
   "source": [
    "nbins=14\n",
    "data = det0\n",
    "fig = plt.figure(figsize=(10,10))\n",
    "\n",
    "n,bins,patches = plt.hist(data,bins=nbins)\n",
    "\n",
    "# Generate data from bins as a set of points \n",
    "bin_size = abs(bins[1]-bins[0])\n",
    "x =np.linspace(start=bins[0]+bin_size/2.0,stop=bins[-2]+bin_size/2.0,\\\n",
    "num=nbins,endpoint=True)\n",
    "\n",
    "\n",
    "y = n\n",
    "y[y==0]= 1e-8\n",
    "\n",
    "\n",
    "newy=[]\n",
    "newx=[]\n",
    "for i in range(len(y)):\n",
    "    if y[i]>=1:\n",
    "        newy.append(y[i])\n",
    "        newx.append(x[i])\n",
    "\n",
    "\n",
    "popt, pcov = optimize.curve_fit(Gaussian,newx,newy) \n",
    "\n",
    "# Curve-fit error method\n",
    "error = [] \n",
    "for i in range(len(popt)):\n",
    "    try:\n",
    "      error.append( np.absolute(pcov[i][i])**0.5)\n",
    "    except:\n",
    "      error.append( 0.00 )\n",
    "pfit_curvefit = popt\n",
    "perr_curvefit = np.array(error) \n",
    "print('\\n Curve-fit Curve fit: %s' % pfit_curvefit)\n",
    "print('\\n Curve-fit Fit errors: %s' % perr_curvefit)\n",
    "\n",
    "# Plot the fit\n",
    "x_fit = np.linspace(x[0], x[-1], 300)\n",
    "y_gauss = Gaussian(x_fit, *popt)\n",
    "yerr=Gaussian(x_fit,*perr_curvefit)\n",
    "\n",
    "plt.plot(x_fit, y_gauss,linestyle='--',linewidth=2,\\\n",
    "color='red',label='Gaussian, $\\sigma$=117ps$\\pm$ 1.8ps ')\n",
    "plt.title(\"Histogram Testpulses 0.57 V(10.3k e-) \",fontsize=25)\n",
    "fig.patch.set_facecolor('xkcd:white')\n",
    "plt.ylabel(\"Counts\",fontsize=22)\n",
    "plt.xlabel(\"T(ns)\",fontsize=22)\n",
    "plt.xticks(fontsize=20)\n",
    "plt.yticks(fontsize=20)\n",
    "plt.legend(fontsize=13)\n",
    "\n",
    "\n",
    "plt.savefig(\"histogram_testpulses.png\", dpi=150)\n",
    "plt.show()\n"
   ]
  },
  {
   "cell_type": "code",
   "execution_count": 19,
   "id": "71e94b58-6636-4bdb-9f5e-688796798eea",
   "metadata": {},
   "outputs": [
    {
     "data": {
      "text/plain": [
       "0.127570994285758"
      ]
     },
     "execution_count": 19,
     "metadata": {},
     "output_type": "execute_result"
    }
   ],
   "source": [
    "np.std(det0)"
   ]
  },
  {
   "cell_type": "code",
   "execution_count": 16,
   "id": "10480db7-c8f8-42c9-b9bd-bc89a0029c34",
   "metadata": {},
   "outputs": [],
   "source": [
    "popt, pcov = optimize.curve_fit(Gaussian,x,y) "
   ]
  },
  {
   "cell_type": "code",
   "execution_count": 17,
   "id": "9e5791f4-9b7d-4233-b6a3-6d648159d34e",
   "metadata": {},
   "outputs": [
    {
     "name": "stderr",
     "output_type": "stream",
     "text": [
      "/user/dnobels/.local/lib/python3.7/site-packages/scipy/optimize/minpack.py:834: OptimizeWarning: Covariance of the parameters could not be estimated\n",
      "  category=OptimizeWarning)\n"
     ]
    },
    {
     "data": {
      "text/plain": [
       "[<matplotlib.lines.Line2D at 0x7fa9e04cf2d0>]"
      ]
     },
     "execution_count": 17,
     "metadata": {},
     "output_type": "execute_result"
    },
    {
     "data": {
      "image/png": "[encoded data removed]",
      "text/plain": [
       "<Figure size 432x288 with 1 Axes>"
      ]
     },
     "metadata": {
      "needs_background": "light"
     },
     "output_type": "display_data"
    }
   ],
   "source": [
    "p0= [350,0,np.std(det)]\n",
    "popt, pcov = optimize.curve_fit(Gaussian,x,y,p0) \n",
    "x_fit = np.linspace(x[0], x[-1], nbins)\n",
    "y_gauss = Gaussian(x_fit, *popt)\n",
    "yerr=Gaussian(x_fit,*perr_curvefit)\n",
    "\n",
    "plt.plot(x_fit, y_gauss,linestyle='--',linewidth=2,\\\n",
    "color='red',label='Gaussian, $\\sigma$=209ps $\\pm$ 2.5ps ')"
   ]
  },
  {
   "cell_type": "code",
   "execution_count": 18,
   "id": "6f50cb7f-36df-4feb-80c3-d5af46ec37a3",
   "metadata": {},
   "outputs": [
    {
     "data": {
      "text/plain": [
       "<matplotlib.collections.PathCollection at 0x7fa9e566b850>"
      ]
     },
     "execution_count": 18,
     "metadata": {},
     "output_type": "execute_result"
    },
    {
     "data": {
      "image/png": "[encoded data removed]",
      "text/plain": [
       "<Figure size 432x288 with 1 Axes>"
      ]
     },
     "metadata": {
      "needs_background": "light"
     },
     "output_type": "display_data"
    }
   ],
   "source": [
    "plt.scatter(x,y)"
   ]
  },
  {
   "cell_type": "code",
   "execution_count": null,
   "id": "0b711589-d86b-4de2-86ca-4d29bf28fdd1",
   "metadata": {},
   "outputs": [],
   "source": []
  }
 ],
 "metadata": {
  "kernelspec": {
   "display_name": "Python 3 (ipykernel)",
   "language": "python",
   "name": "python3"
  },
  "language_info": {
   "codemirror_mode": {
    "name": "ipython",
    "version": 3
   },
   "file_extension": ".py",
   "mimetype": "text/x-python",
   "name": "python",
   "nbconvert_exporter": "python",
   "pygments_lexer": "ipython3",
   "version": "3.7.11"
  }
 },
 "nbformat": 4,
 "nbformat_minor": 5
}
