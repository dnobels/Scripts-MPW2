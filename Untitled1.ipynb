{
 "cells": [
  {
   "cell_type": "code",
   "execution_count": 1,
   "id": "18c70a3e",
   "metadata": {},
   "outputs": [],
   "source": [
    "import numpy as np\n",
    "import csv\n",
    "import matplotlib.pyplot as plt\n",
    "from pathlib import Path\n",
    "from scipy.stats import norm\n",
    "from sklearn.metrics import mean_squared_error\n",
    "import scipy\n",
    "import scipy.stats\n",
    "from scipy.optimize import curve_fit\n",
    "from pylab import exp\n",
    "from scipy import optimize\n",
    "from math import sqrt\n",
    "import glob\n",
    "import seaborn as sns\n",
    "import h5py   \n",
    "from matplotlib.colors import LogNorm, Normalize\n",
    "from scipy.signal import find_peaks"
   ]
  },
  {
   "cell_type": "code",
   "execution_count": 37,
   "id": "bfc2adb6",
   "metadata": {},
   "outputs": [],
   "source": [
    "def tot(time, ch):\n",
    "    half= max(ch)/2\n",
    "    i=0\n",
    "    while ch[i]<half:\n",
    "        i=i+1\n",
    "    j=i+30\n",
    "    while ch[j]>half:\n",
    "        j=j+1\n",
    "    tott= time[j]-time[i]\n",
    "    return tott"
   ]
  },
  {
   "cell_type": "code",
   "execution_count": 3,
   "id": "ea10c451",
   "metadata": {},
   "outputs": [],
   "source": [
    "folder=glob.glob(\"/home/pixel/Documents/Master_Thesis_Douwe_Nobels/Measurements/calibrationMPW2/cal_scan_P1_79V_P16_6ms_W50us/*\")\n",
    "a= sorted(folder)\n"
   ]
  },
  {
   "cell_type": "code",
   "execution_count": 4,
   "id": "6db88f32",
   "metadata": {},
   "outputs": [
    {
     "data": {
      "text/plain": [
       "'/home/pixel/Documents/Master_Thesis_Douwe_Nobels/Measurements/calibrationMPW2/cal_scan_P1_79V_P16_6ms_W50us/20221108-131708_537.h5'"
      ]
     },
     "execution_count": 4,
     "metadata": {},
     "output_type": "execute_result"
    }
   ],
   "source": [
    "folder[0]"
   ]
  },
  {
   "cell_type": "code",
   "execution_count": 63,
   "id": "73333079",
   "metadata": {},
   "outputs": [
    {
     "data": {
      "image/png": "[encoded data removed]",
      "text/plain": [
       "<Figure size 720x720 with 1 Axes>"
      ]
     },
     "metadata": {},
     "output_type": "display_data"
    }
   ],
   "source": [
    "\n",
    "\n",
    "\n",
    "data=h5py.File(a[1192])\n",
    "ch1= data[\"Voltage_CHAN1\"]\n",
    "ch2= data[\"Voltage_CHAN2\"]\n",
    "ch1= np.array(ch1)\n",
    "ch2= np.array(ch2)\n",
    "\n",
    "time= data[\"Time\"]\n",
    "\n",
    "fig = plt.figure(figsize=(10,10))\n",
    "plt.plot(time[0:-1],ch1[0:-1], label=\"ch1\")\n",
    "plt.plot(time[0:-1],ch2[0:-1], label=\"ch2\")\n",
    "\n",
    "\n",
    "plt.legend()\n",
    "fig.patch.set_facecolor('xkcd:white')\n",
    "plt.xlabel(\"$t$(ns)\",fontsize=18)\n",
    "#plt.title(\"V=1.8\",fontsize=18)\n",
    "plt.ylabel(\"V\",fontsize=18)\n",
    "plt.show()"
   ]
  },
  {
   "cell_type": "code",
   "execution_count": 6,
   "id": "769c0f0a",
   "metadata": {},
   "outputs": [],
   "source": [
    "data=h5py.File(folder[lol])"
   ]
  },
  {
   "cell_type": "code",
   "execution_count": 7,
   "id": "71072ea6",
   "metadata": {},
   "outputs": [
    {
     "data": {
      "text/plain": [
       "<KeysViewHDF5 ['Time', 'Voltage_CHAN1', 'Voltage_CHAN2']>"
      ]
     },
     "execution_count": 7,
     "metadata": {},
     "output_type": "execute_result"
    }
   ],
   "source": [
    "data.keys()"
   ]
  },
  {
   "cell_type": "code",
   "execution_count": 38,
   "id": "1b48f131",
   "metadata": {},
   "outputs": [
    {
     "name": "stdout",
     "output_type": "stream",
     "text": [
      "CPU times: user 27 ms, sys: 2.61 ms, total: 29.6 ms\n",
      "Wall time: 29.4 ms\n"
     ]
    }
   ],
   "source": [
    "%%time\n",
    "\n",
    "pixelnames=[]\n",
    "temp=[]\n",
    "for i in range(len(a)):\n",
    "    if i==0:\n",
    "        temp.append(a[i])\n",
    "    elif a[i]==a[-1]:\n",
    "        temp.append(a[i])\n",
    "        pixelnames.append(temp)\n",
    "    elif a[i][117:123]==a[i-1][117:123]:\n",
    "        temp.append(a[i])\n",
    "    else:\n",
    "        pixelnames.append(temp)\n",
    "        temp=[]\n",
    "        temp.append(a[i])"
   ]
  },
  {
   "cell_type": "code",
   "execution_count": 12,
   "id": "e32e3115",
   "metadata": {},
   "outputs": [],
   "source": [
    "c=6.24*10**18\n",
    "cont=(2.8*10**-15)*c\n",
    "\n",
    "charge = cont*1.79\n",
    "\n"
   ]
  },
  {
   "cell_type": "code",
   "execution_count": 30,
   "id": "60e0ce9a",
   "metadata": {},
   "outputs": [
    {
     "data": {
      "text/plain": [
       "29"
      ]
     },
     "execution_count": 30,
     "metadata": {},
     "output_type": "execute_result"
    }
   ],
   "source": [
    "len(pixelnames)"
   ]
  },
  {
   "cell_type": "code",
   "execution_count": 39,
   "id": "f6df77c7",
   "metadata": {},
   "outputs": [
    {
     "name": "stdout",
     "output_type": "stream",
     "text": [
      "0\n"
     ]
    },
    {
     "ename": "IndexError",
     "evalue": "index 8001 is out of bounds for axis 0 with size 8001",
     "output_type": "error",
     "traceback": [
      "\u001b[0;31m---------------------------------------------------------------------------\u001b[0m",
      "\u001b[0;31mIndexError\u001b[0m                                Traceback (most recent call last)",
      "File \u001b[0;32m<timed exec>:12\u001b[0m, in \u001b[0;36m<module>\u001b[0;34m\u001b[0m\n",
      "Input \u001b[0;32mIn [37]\u001b[0m, in \u001b[0;36mtot\u001b[0;34m(time, ch)\u001b[0m\n\u001b[1;32m      5\u001b[0m     i\u001b[38;5;241m=\u001b[39mi\u001b[38;5;241m+\u001b[39m\u001b[38;5;241m1\u001b[39m\n\u001b[1;32m      6\u001b[0m j\u001b[38;5;241m=\u001b[39mi\u001b[38;5;241m+\u001b[39m\u001b[38;5;241m30\u001b[39m\n\u001b[0;32m----> 7\u001b[0m \u001b[38;5;28;01mwhile\u001b[39;00m \u001b[43mch\u001b[49m\u001b[43m[\u001b[49m\u001b[43mj\u001b[49m\u001b[43m]\u001b[49m\u001b[38;5;241m>\u001b[39mhalf:\n\u001b[1;32m      8\u001b[0m     j\u001b[38;5;241m=\u001b[39mj\u001b[38;5;241m+\u001b[39m\u001b[38;5;241m1\u001b[39m\n\u001b[1;32m      9\u001b[0m tott\u001b[38;5;241m=\u001b[39m time[j]\u001b[38;5;241m-\u001b[39mtime[i]\n",
      "\u001b[0;31mIndexError\u001b[0m: index 8001 is out of bounds for axis 0 with size 8001"
     ]
    }
   ],
   "source": [
    "%%time\n",
    "pixelstot=[]\n",
    "for i in range(len(pixelnames)):\n",
    "    temp3=[]\n",
    "    for j in range(len(pixelnames[i])):\n",
    "        temp1=h5py.File(pixelnames[i][j])\n",
    "        temps=temp1\n",
    "        ch1= temps['Voltage_CHAN1']\n",
    "        ch1= np.array(ch1)\n",
    "        ch2= temps[\"Voltage_CHAN2\"]\n",
    "        ch2= np.array(ch2)\n",
    "        time=temps[\"Time\"]\n",
    "        temp3.append(tot(time,ch2))\n",
    "        temp1.close()\n",
    "    pixelstot.append(temp3)\n",
    "    print(i)"
   ]
  },
  {
   "cell_type": "code",
   "execution_count": 62,
   "id": "0231919e",
   "metadata": {},
   "outputs": [
    {
     "name": "stdout",
     "output_type": "stream",
     "text": [
      "1200\n"
     ]
    },
    {
     "ename": "IndexError",
     "evalue": "index 8001 is out of bounds for axis 0 with size 8001",
     "output_type": "error",
     "traceback": [
      "\u001b[0;31m---------------------------------------------------------------------------\u001b[0m",
      "\u001b[0;31mIndexError\u001b[0m                                Traceback (most recent call last)",
      "Input \u001b[0;32mIn [62]\u001b[0m, in \u001b[0;36m<cell line: 1>\u001b[0;34m()\u001b[0m\n\u001b[1;32m      7\u001b[0m time\u001b[38;5;241m=\u001b[39m data[\u001b[38;5;124m\"\u001b[39m\u001b[38;5;124mTime\u001b[39m\u001b[38;5;124m\"\u001b[39m]\n\u001b[1;32m      8\u001b[0m \u001b[38;5;28mprint\u001b[39m(i)\n\u001b[0;32m----> 9\u001b[0m \u001b[43mtot\u001b[49m\u001b[43m(\u001b[49m\u001b[43mtime\u001b[49m\u001b[43m,\u001b[49m\u001b[43mch2\u001b[49m\u001b[43m)\u001b[49m\n",
      "Input \u001b[0;32mIn [37]\u001b[0m, in \u001b[0;36mtot\u001b[0;34m(time, ch)\u001b[0m\n\u001b[1;32m      5\u001b[0m     i\u001b[38;5;241m=\u001b[39mi\u001b[38;5;241m+\u001b[39m\u001b[38;5;241m1\u001b[39m\n\u001b[1;32m      6\u001b[0m j\u001b[38;5;241m=\u001b[39mi\u001b[38;5;241m+\u001b[39m\u001b[38;5;241m30\u001b[39m\n\u001b[0;32m----> 7\u001b[0m \u001b[38;5;28;01mwhile\u001b[39;00m \u001b[43mch\u001b[49m\u001b[43m[\u001b[49m\u001b[43mj\u001b[49m\u001b[43m]\u001b[49m\u001b[38;5;241m>\u001b[39mhalf:\n\u001b[1;32m      8\u001b[0m     j\u001b[38;5;241m=\u001b[39mj\u001b[38;5;241m+\u001b[39m\u001b[38;5;241m1\u001b[39m\n\u001b[1;32m      9\u001b[0m tott\u001b[38;5;241m=\u001b[39m time[j]\u001b[38;5;241m-\u001b[39mtime[i]\n",
      "\u001b[0;31mIndexError\u001b[0m: index 8001 is out of bounds for axis 0 with size 8001"
     ]
    }
   ],
   "source": [
    "for i in range(1200,5000):\n",
    "    data=h5py.File(folder[i])\n",
    "    ch1= data[\"Voltage_CHAN1\"]\n",
    "    ch2= data[\"Voltage_CHAN2\"]\n",
    "    ch1= np.array(ch1)\n",
    "    ch2= np.array(ch2)\n",
    "    time= data[\"Time\"]\n",
    "    print(i)\n",
    "    tot(time,ch2)\n"
   ]
  },
  {
   "cell_type": "code",
   "execution_count": 34,
   "id": "4d014209",
   "metadata": {},
   "outputs": [
    {
     "name": "stdout",
     "output_type": "stream",
     "text": [
      "[ 3.3074e-03  3.3074e-03 -2.0000e-08 ... -2.0000e-08 -2.0000e-08\n",
      " -2.0000e-08]\n"
     ]
    }
   ],
   "source": [
    "print(ch2)"
   ]
  },
  {
   "cell_type": "code",
   "execution_count": 36,
   "id": "94b64ff0",
   "metadata": {
    "scrolled": true
   },
   "outputs": [
    {
     "data": {
      "text/plain": [
       "(1.96e-07, 6267, 3131)"
      ]
     },
     "execution_count": 36,
     "metadata": {},
     "output_type": "execute_result"
    }
   ],
   "source": [
    "tot(time,ch2)"
   ]
  },
  {
   "cell_type": "code",
   "execution_count": null,
   "id": "295a7f3c",
   "metadata": {},
   "outputs": [],
   "source": []
  }
 ],
 "metadata": {
  "kernelspec": {
   "display_name": "Python 3 (ipykernel)",
   "language": "python",
   "name": "python3"
  },
  "language_info": {
   "codemirror_mode": {
    "name": "ipython",
    "version": 3
   },
   "file_extension": ".py",
   "mimetype": "text/x-python",
   "name": "python",
   "nbconvert_exporter": "python",
   "pygments_lexer": "ipython3",
   "version": "3.9.12"
  }
 },
 "nbformat": 4,
 "nbformat_minor": 5
}
